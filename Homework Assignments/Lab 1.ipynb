{
 "cells": [
  {
   "cell_type": "markdown",
   "id": "c027d304",
   "metadata": {},
   "source": [
    "# Problem 0"
   ]
  },
  {
   "cell_type": "code",
   "execution_count": 38,
   "id": "ad3573e9",
   "metadata": {},
   "outputs": [],
   "source": [
    "import numpy as np\n",
    "import pandas as pd\n",
    "import os\n",
    "import math"
   ]
  },
  {
   "cell_type": "markdown",
   "id": "d1b2faed",
   "metadata": {},
   "source": [
    "# Problem 1\n",
    "\n",
    "I counted at least a total of 15 suggested unique solutions to this problem from Stack Overflow users. \n",
    "\n",
    "The issue with relying on Google and Stack Overflow as your first source for seeking help to coding issues is that you will go down a rabbit hole of possible solutions, each based on what other people believe to be the best solution. The simplest and best solution is most likely to be found within the Python documentation. it is best to use outside resources once you have exhausted the internal Python documentation."
   ]
  },
  {
   "cell_type": "markdown",
   "id": "82aa2d26",
   "metadata": {},
   "source": [
    "# Problem 2"
   ]
  },
  {
   "cell_type": "code",
   "execution_count": 39,
   "id": "ec032e93",
   "metadata": {},
   "outputs": [
    {
     "data": {
      "text/plain": [
       "1.7712437491614221"
      ]
     },
     "execution_count": 39,
     "metadata": {},
     "output_type": "execute_result"
    }
   ],
   "source": [
    "?math.log\n",
    "?np.log\n",
    "\n",
    "math.log(7,3)"
   ]
  },
  {
   "cell_type": "markdown",
   "id": "baf86693",
   "metadata": {},
   "source": [
    "It is not possible to use the numpy.log function to calculate this logrithm, as it requires an array. It is possible to use the math.log function."
   ]
  },
  {
   "cell_type": "markdown",
   "id": "dc0501ee",
   "metadata": {},
   "source": [
    "# Problem 3\n",
    "\n",
    "?pd.DataFrame\n",
    "\n",
    "<img src=\"pythonscreenshot.jpg\" width=600>"
   ]
  },
  {
   "cell_type": "markdown",
   "id": "10a5b8d7",
   "metadata": {},
   "source": [
    "# Problem 4\n",
    "\n",
    "Link: https://stackoverflow.com/questions/1373164/how-do-i-create-variable-variables\n",
    "    \n",
    "The answer begins with \"It's not a good idea\" in response to the simple question being asked. This is a good example of the negative and offputting attitude which may scare off new Stack Overflow users and coders. An answer could have been provided without the additional snarky commentary.\n"
   ]
  },
  {
   "cell_type": "markdown",
   "id": "e5b07b28",
   "metadata": {},
   "source": [
    "# Problem 5\n",
    "\n",
    "Link: https://stackoverflow.com/questions/1832940/why-is-using-eval-a-bad-practice\n",
    "\n",
    "This user asks a question that is vague and based in opinion, asking why using a certain code is \"bad.\" In addition to the subjectivity of the question, they proceed to list a number of their concerns, prompting this response from a user: \"This should have been considered as two separate questions in the first place - explaining the risk of eval, and showing how to replace this specific usage.\" The subjectivity of the question and the lack of specificity led to the annoyance of the community of answerers."
   ]
  },
  {
   "cell_type": "markdown",
   "id": "bd75a6df",
   "metadata": {},
   "source": [
    "# Problem 6"
   ]
  },
  {
   "cell_type": "code",
   "execution_count": 40,
   "id": "35074cc5",
   "metadata": {},
   "outputs": [],
   "source": [
    "def is_avenger(name):\n",
    "     if name==\"Hulk\" or \"Captain America\" or \"Iron Man\" or \"Black Widow\" or \"Hawkeye\" or \"Thor\":\n",
    "         print(name + \"'s an original Avenger!\")\n",
    "     else:\n",
    "         print(name + \" is NOT an original Avenger.\")"
   ]
  },
  {
   "cell_type": "markdown",
   "id": "e90ccf44",
   "metadata": {},
   "source": [
    "Link: https://stackoverflow.com/questions/15112125/how-to-test-multiple-variables-for-equality-against-a-single-value\n",
    "\n",
    "Google terms: \"python if and only if string always returns true for multiple variables\""
   ]
  },
  {
   "cell_type": "code",
   "execution_count": 35,
   "id": "64d17630",
   "metadata": {},
   "outputs": [
    {
     "name": "stdout",
     "output_type": "stream",
     "text": [
      "Matt is NOT an original Avenger.\n"
     ]
    }
   ],
   "source": [
    "def is_avenger(name):\n",
    "     if name==\"Hulk\" or name==\"Captain America\" or name==\"Iron Man\" or name==\"Black Widow\" or name==\"Hawkeye\" or name==\"Thor\":\n",
    "         print(name + \"'s an original Avenger!\")\n",
    "     else:\n",
    "         print(name + \" is NOT an original Avenger.\")\n",
    "            \n",
    "is_avenger(\"Matt\")"
   ]
  },
  {
   "cell_type": "markdown",
   "id": "50d0edb2",
   "metadata": {},
   "source": [
    "I would suggest this title for the post: \"My Python if/else statement with equality operator (==) is returning true for all string inputs.\""
   ]
  },
  {
   "cell_type": "code",
   "execution_count": 33,
   "id": "031718a2",
   "metadata": {},
   "outputs": [
    {
     "name": "stdout",
     "output_type": "stream",
     "text": [
      "Thor's an original Avenger!\n",
      "Matt's an original Avenger!\n"
     ]
    }
   ],
   "source": [
    "# Minimal Working Example:\n",
    "\n",
    "def is_avenger(name):\n",
    "    if name==\"Hulk\" or \"Captain America\" or \"Iron Man\" or \"Black Widow\" or \"Hawkeye\" or \"Thor\":\n",
    "        print(name  + \"'s an original Avenger!\")\n",
    "    else:\n",
    "        print(name + \" is NOT an original Avenger.\")\n",
    "        \n",
    "true = \"Thor\"\n",
    "false = \"Matt\"\n",
    "\n",
    "#Running these examples will help show the issue with my code. The False variable should not return that the example is an original Avenger.\n",
    "\n",
    "is_avenger(\"Thor\")\n",
    "is_avenger(\"Matt\")"
   ]
  },
  {
   "cell_type": "markdown",
   "id": "1a5a7f31",
   "metadata": {},
   "source": [
    "# Problem 7\n",
    "\n",
    "Signed into Slack and sent a private message."
   ]
  },
  {
   "cell_type": "code",
   "execution_count": null,
   "id": "b82e5f2e",
   "metadata": {},
   "outputs": [],
   "source": []
  }
 ],
 "metadata": {
  "kernelspec": {
   "display_name": "Python 3 (ipykernel)",
   "language": "python",
   "name": "python3"
  },
  "language_info": {
   "codemirror_mode": {
    "name": "ipython",
    "version": 3
   },
   "file_extension": ".py",
   "mimetype": "text/x-python",
   "name": "python",
   "nbconvert_exporter": "python",
   "pygments_lexer": "ipython3",
   "version": "3.9.12"
  }
 },
 "nbformat": 4,
 "nbformat_minor": 5
}
