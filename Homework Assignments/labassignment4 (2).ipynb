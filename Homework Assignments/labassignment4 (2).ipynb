{
 "cells": [
  {
   "cell_type": "markdown",
   "metadata": {},
   "source": [
    "# Lab Assignment 4: Using APIs in Python\n",
    "## DS 6001: Practice and Application of Data Science\n",
    "\n",
    "### Instructions\n",
    "Please answer the following questions as completely as possible using text, code, and the results of code as needed. Format your answers in a Jupyter notebook. To receive full credit, make sure you address every part of the problem, and make sure your document is formatted in a clean and professional way."
   ]
  },
  {
   "cell_type": "markdown",
   "metadata": {},
   "source": [
    "In this lab, you will work with the public API provided by [genius.com](https://genius.com/), a website that calls itself \"the world’s biggest collection of song lyrics and musical knowledge.\" You will need to read the API documentation carefully, acquire an access key, and use it without sharing it to pull data from this API into Python. You will also practice using a library made specifically to wrap around `requests` to make calling from the Genius API easier.\n",
    "\n",
    "## Problem 0\n",
    "Import the following libraries:"
   ]
  },
  {
   "cell_type": "code",
   "execution_count": 1,
   "metadata": {},
   "outputs": [],
   "source": [
    "import numpy as np\n",
    "import pandas as pd\n",
    "import requests\n",
    "import json\n",
    "import os\n",
    "import dotenv\n",
    "import sys\n",
    "\n",
    "sys.tracebacklimit = 0 # turn off the error tracebacks"
   ]
  },
  {
   "cell_type": "code",
   "execution_count": 2,
   "metadata": {},
   "outputs": [],
   "source": [
    "os.chdir('/Users/matthewscheffel/Desktop/MSDS')"
   ]
  },
  {
   "cell_type": "code",
   "execution_count": 3,
   "metadata": {},
   "outputs": [
    {
     "data": {
      "text/plain": [
       "'/Users/matthewscheffel/Desktop/MSDS'"
      ]
     },
     "execution_count": 3,
     "metadata": {},
     "output_type": "execute_result"
    }
   ],
   "source": [
    "os.getcwd()"
   ]
  },
  {
   "cell_type": "markdown",
   "metadata": {},
   "source": [
    "## Problem 1\n",
    "The Genius API documentation is here: https://docs.genius.com/#/getting-started-h1. Read through the documentation carefully. Although the Genius API is free and public, it still requires users an access key to use the API. In this case, Genius provides users with three codes: a client ID, a client ID secret, and a client access token. Use the documentation to find a way to obtain these codes for yourself. Write a paragraph that describes all of the steps you needed to take (but DO NOT list your access codes in this paragraph).\n",
    "\n",
    "Some hints and cautions: \n",
    "\n",
    "1. Before you can use the API, you will need a regular, free user account with Genius. Sign-up here: https://genius.com/signup_or_login\n",
    "\n",
    "2. Genius's API is built to support third-party app development, not data scientists. The language is entirely geared toward app development. Under \"Authentication\" there are instructions to third-party developers for guiding their own users in getting access keys. That's not relevant to getting access for yourself. It's not hard to get an access key, but the guidance here is not very clear. Be patient and read everything in the Authentication section carefully.\n",
    "\n",
    "3. When you arrive at the page that allows you to register for API access keys, the language is still geared toward app development. You will be prompted to name your app and provide the URLs associated with the app. It doesn't much matter what you name your app, and I just used the Collab main page (https://collab.its.virginia.edu/portal?containerLogin=true) for the URLs.\n",
    "\n",
    "4. When you get your codes, copy them in a text file. In problem 2 you will copy these codes over again to a `.env` file. [4 points]"
   ]
  },
  {
   "cell_type": "markdown",
   "metadata": {},
   "source": [
    "**First, I followed the link to the API documentation and read through it. I used the link within the documentation to the \"API Client management page.\" I then created an account with my school email, then used the Collab URL to register for the necessary API codes. The site produced a set of 3 keys/IDs for me. I then added these keys into my .env file.**"
   ]
  },
  {
   "cell_type": "markdown",
   "metadata": {},
   "source": [
    "## Problem 2\n",
    "Create a `.env` file for this project. Open it, copy your access codes into it, and save it. Then use Python code to load the environmental variables contained in the `.env` file, and create variables that contain each of the three codes. (You can print these variables to make sure it worked, but do not allow your access keys to display in your notebook). [4 points]"
   ]
  },
  {
   "cell_type": "code",
   "execution_count": 4,
   "metadata": {},
   "outputs": [
    {
     "data": {
      "text/plain": [
       "True"
      ]
     },
     "execution_count": 4,
     "metadata": {},
     "output_type": "execute_result"
    }
   ],
   "source": [
    "dotenv.load_dotenv()"
   ]
  },
  {
   "cell_type": "code",
   "execution_count": 5,
   "metadata": {},
   "outputs": [],
   "source": [
    "geniusID = os.getenv('geniusclientid')\n",
    "geniusSecret = os.getenv('geniusclientsecret')\n",
    "geniusAccess = os.getenv('geniusclientaccess')"
   ]
  },
  {
   "cell_type": "code",
   "execution_count": 25,
   "metadata": {},
   "outputs": [],
   "source": [
    "# test"
   ]
  },
  {
   "cell_type": "markdown",
   "metadata": {},
   "source": [
    "## Problem 3\n",
    "The root for all Genius APIs is https://api.genius.com. Find the endpoint for the Search API. (You will have to click the \"Authorize with Genius\" button in the upper-right corner if you haven't already done so). Use the `requests` library to issue a search for Bob Dylan. Genius's API is organized in a way that every individual artist has his or her own API endpoint. Display a portion of the JSON output that displays the API endpoint path for the data on Bob Dylan. \n",
    "\n",
    "Hint: to authenticate, specify your access token (not your client ID or client secret) as the `access_token` parameter. You will have to dig around the JSON output to find the artist ID, but it is listed under `primary_artist` several branches down the JSON tree. [4 points]"
   ]
  },
  {
   "cell_type": "markdown",
   "metadata": {},
   "source": [
    "**The link (https://api.genius.com) gives me a error: {\"meta\":{\"status\":403,\"message\":\"Action forbidden for current scope\"}}**"
   ]
  },
  {
   "cell_type": "code",
   "execution_count": 30,
   "metadata": {
    "scrolled": true
   },
   "outputs": [
    {
     "data": {
      "text/plain": [
       "<Response [503]>"
      ]
     },
     "execution_count": 30,
     "metadata": {},
     "output_type": "execute_result"
    }
   ],
   "source": [
    "#root = 'https://api.genius.com/search'\n",
    "\n",
    "# Bob Dylan is artist 181\n",
    "\n",
    "#endpoint = '/artists/181'\n",
    "#headers = {'access_token': geniusAccess,\n",
    "         # 'client_id': geniusID,\n",
    "         # 'client_secret': geniusSecret,}\n",
    "\n",
    "#params = {'q':'Bob Dylan'}\n",
    "\n",
    "#r = requests.get(\"https://api.genius.com/search\", headers = headers, params = params)\n",
    "\n",
    "#r = requests.get(root + endpoint, headers = headers)\n",
    "\n",
    "#r\n",
    "\n",
    "# r gives error: <Response [503]>\n",
    "\n",
    "#myjson = json.loads(r.text)\n",
    "#print(myjson[\"response\"][\"artist\"][\"api_path\"])\n",
    "\n",
    "# gives error: JSONDecodeError: Expecting value: line 1 column 1 (char 0)\n",
    "\n",
    "endpoint = \"https://api.genius.com/search\"\n",
    "mypars = {'q':'Bob Dylan',\n",
    "          'access_token': geniusSecret}\n",
    "r = requests.get(endpoint, params=mypars)\n",
    "r"
   ]
  },
  {
   "cell_type": "markdown",
   "metadata": {},
   "source": [
    "## Problem 4\n",
    "Add `/songs` to the end of the the endpoint path you found in problem 3 and use this path to request the 20 most popular Bob Dylan songs. Organize these data in a `pandas` data frame. [4 points]"
   ]
  },
  {
   "cell_type": "code",
   "execution_count": 7,
   "metadata": {},
   "outputs": [
    {
     "ename": "JSONDecodeError",
     "evalue": "Expecting value: line 1 column 1 (char 0)",
     "output_type": "error",
     "traceback": [
      "\u001b[0;31m---------------------------------------------------------------------------\u001b[0m",
      "\u001b[0;31mJSONDecodeError\u001b[0m                           Traceback (most recent call last)",
      "Input \u001b[0;32mIn [7]\u001b[0m, in \u001b[0;36m<cell line: 7>\u001b[0;34m()\u001b[0m\n\u001b[1;32m      3\u001b[0m r2\n\u001b[1;32m      5\u001b[0m \u001b[38;5;66;03m# r2 gives error: <Response [503]>\u001b[39;00m\n\u001b[0;32m----> 7\u001b[0m myjson2 \u001b[38;5;241m=\u001b[39m \u001b[43mjson\u001b[49m\u001b[38;5;241;43m.\u001b[39;49m\u001b[43mloads\u001b[49m\u001b[43m(\u001b[49m\u001b[43mr2\u001b[49m\u001b[38;5;241;43m.\u001b[39;49m\u001b[43mtext\u001b[49m\u001b[43m)\u001b[49m\n\u001b[1;32m      8\u001b[0m myjson2\n\u001b[1;32m     10\u001b[0m \u001b[38;5;66;03m# JSONDecodeError: Expecting value: line 1 column 1 (char 0)\u001b[39;00m\n",
      "File \u001b[0;32m~/opt/anaconda3/lib/python3.9/json/__init__.py:346\u001b[0m, in \u001b[0;36mloads\u001b[0;34m(s, cls, object_hook, parse_float, parse_int, parse_constant, object_pairs_hook, **kw)\u001b[0m\n\u001b[1;32m    341\u001b[0m     s \u001b[38;5;241m=\u001b[39m s\u001b[38;5;241m.\u001b[39mdecode(detect_encoding(s), \u001b[38;5;124m'\u001b[39m\u001b[38;5;124msurrogatepass\u001b[39m\u001b[38;5;124m'\u001b[39m)\n\u001b[1;32m    343\u001b[0m \u001b[38;5;28;01mif\u001b[39;00m (\u001b[38;5;28mcls\u001b[39m \u001b[38;5;129;01mis\u001b[39;00m \u001b[38;5;28;01mNone\u001b[39;00m \u001b[38;5;129;01mand\u001b[39;00m object_hook \u001b[38;5;129;01mis\u001b[39;00m \u001b[38;5;28;01mNone\u001b[39;00m \u001b[38;5;129;01mand\u001b[39;00m\n\u001b[1;32m    344\u001b[0m         parse_int \u001b[38;5;129;01mis\u001b[39;00m \u001b[38;5;28;01mNone\u001b[39;00m \u001b[38;5;129;01mand\u001b[39;00m parse_float \u001b[38;5;129;01mis\u001b[39;00m \u001b[38;5;28;01mNone\u001b[39;00m \u001b[38;5;129;01mand\u001b[39;00m\n\u001b[1;32m    345\u001b[0m         parse_constant \u001b[38;5;129;01mis\u001b[39;00m \u001b[38;5;28;01mNone\u001b[39;00m \u001b[38;5;129;01mand\u001b[39;00m object_pairs_hook \u001b[38;5;129;01mis\u001b[39;00m \u001b[38;5;28;01mNone\u001b[39;00m \u001b[38;5;129;01mand\u001b[39;00m \u001b[38;5;129;01mnot\u001b[39;00m kw):\n\u001b[0;32m--> 346\u001b[0m     \u001b[38;5;28;01mreturn\u001b[39;00m \u001b[43m_default_decoder\u001b[49m\u001b[38;5;241;43m.\u001b[39;49m\u001b[43mdecode\u001b[49m\u001b[43m(\u001b[49m\u001b[43ms\u001b[49m\u001b[43m)\u001b[49m\n\u001b[1;32m    347\u001b[0m \u001b[38;5;28;01mif\u001b[39;00m \u001b[38;5;28mcls\u001b[39m \u001b[38;5;129;01mis\u001b[39;00m \u001b[38;5;28;01mNone\u001b[39;00m:\n\u001b[1;32m    348\u001b[0m     \u001b[38;5;28mcls\u001b[39m \u001b[38;5;241m=\u001b[39m JSONDecoder\n",
      "File \u001b[0;32m~/opt/anaconda3/lib/python3.9/json/decoder.py:337\u001b[0m, in \u001b[0;36mJSONDecoder.decode\u001b[0;34m(self, s, _w)\u001b[0m\n\u001b[1;32m    332\u001b[0m \u001b[38;5;28;01mdef\u001b[39;00m \u001b[38;5;21mdecode\u001b[39m(\u001b[38;5;28mself\u001b[39m, s, _w\u001b[38;5;241m=\u001b[39mWHITESPACE\u001b[38;5;241m.\u001b[39mmatch):\n\u001b[1;32m    333\u001b[0m     \u001b[38;5;124;03m\"\"\"Return the Python representation of ``s`` (a ``str`` instance\u001b[39;00m\n\u001b[1;32m    334\u001b[0m \u001b[38;5;124;03m    containing a JSON document).\u001b[39;00m\n\u001b[1;32m    335\u001b[0m \n\u001b[1;32m    336\u001b[0m \u001b[38;5;124;03m    \"\"\"\u001b[39;00m\n\u001b[0;32m--> 337\u001b[0m     obj, end \u001b[38;5;241m=\u001b[39m \u001b[38;5;28;43mself\u001b[39;49m\u001b[38;5;241;43m.\u001b[39;49m\u001b[43mraw_decode\u001b[49m\u001b[43m(\u001b[49m\u001b[43ms\u001b[49m\u001b[43m,\u001b[49m\u001b[43m \u001b[49m\u001b[43midx\u001b[49m\u001b[38;5;241;43m=\u001b[39;49m\u001b[43m_w\u001b[49m\u001b[43m(\u001b[49m\u001b[43ms\u001b[49m\u001b[43m,\u001b[49m\u001b[43m \u001b[49m\u001b[38;5;241;43m0\u001b[39;49m\u001b[43m)\u001b[49m\u001b[38;5;241;43m.\u001b[39;49m\u001b[43mend\u001b[49m\u001b[43m(\u001b[49m\u001b[43m)\u001b[49m\u001b[43m)\u001b[49m\n\u001b[1;32m    338\u001b[0m     end \u001b[38;5;241m=\u001b[39m _w(s, end)\u001b[38;5;241m.\u001b[39mend()\n\u001b[1;32m    339\u001b[0m     \u001b[38;5;28;01mif\u001b[39;00m end \u001b[38;5;241m!=\u001b[39m \u001b[38;5;28mlen\u001b[39m(s):\n",
      "File \u001b[0;32m~/opt/anaconda3/lib/python3.9/json/decoder.py:355\u001b[0m, in \u001b[0;36mJSONDecoder.raw_decode\u001b[0;34m(self, s, idx)\u001b[0m\n\u001b[1;32m    353\u001b[0m     obj, end \u001b[38;5;241m=\u001b[39m \u001b[38;5;28mself\u001b[39m\u001b[38;5;241m.\u001b[39mscan_once(s, idx)\n\u001b[1;32m    354\u001b[0m \u001b[38;5;28;01mexcept\u001b[39;00m \u001b[38;5;167;01mStopIteration\u001b[39;00m \u001b[38;5;28;01mas\u001b[39;00m err:\n\u001b[0;32m--> 355\u001b[0m     \u001b[38;5;28;01mraise\u001b[39;00m JSONDecodeError(\u001b[38;5;124m\"\u001b[39m\u001b[38;5;124mExpecting value\u001b[39m\u001b[38;5;124m\"\u001b[39m, s, err\u001b[38;5;241m.\u001b[39mvalue) \u001b[38;5;28;01mfrom\u001b[39;00m \u001b[38;5;28mNone\u001b[39m\n\u001b[1;32m    356\u001b[0m \u001b[38;5;28;01mreturn\u001b[39;00m obj, end\n",
      "\u001b[0;31mJSONDecodeError\u001b[0m: Expecting value: line 1 column 1 (char 0)"
     ]
    }
   ],
   "source": [
    "r2 = requests.get(\"https://api.genius.com/artists/181/songs?sort=popularity&per_page=20\", params = headers)\n",
    "\n",
    "r2\n",
    "\n",
    "# r2 gives error: <Response [503]>\n",
    "\n",
    "myjson2 = json.loads(r2.text)\n",
    "myjson2\n",
    "\n",
    "# JSONDecodeError: Expecting value: line 1 column 1 (char 0)\n",
    "\n",
    "dylan_songs = []\n",
    "for entry in myjson2[\"response\"][\"songs\"]:\n",
    "    song_title = entry[\"title\"]\n",
    "    dylan_songs.append(song_title)\n",
    "BobDylan_DF = pd.DataFrame(dylan_songs, columns = [\"Title\"])\n",
    "\n",
    "BobDylan_DF"
   ]
  },
  {
   "cell_type": "code",
   "execution_count": null,
   "metadata": {},
   "outputs": [],
   "source": []
  },
  {
   "cell_type": "markdown",
   "metadata": {},
   "source": [
    "## Problem 5\n",
    "Install and import the `lyricsgenius` library in Python, which is a wrapper around `requests` that works specifically with the Genius API. . Follow the guide on the GitHub repository for this library (https://github.com/johnwmillr/LyricsGenius) for instructions on using the library. Use the `lyricsgenius` library to download and display the lyrics to \"Tangled Up in Blue\" by Bob Dylan. [4 points]"
   ]
  },
  {
   "cell_type": "code",
   "execution_count": 38,
   "metadata": {},
   "outputs": [
    {
     "name": "stdout",
     "output_type": "stream",
     "text": [
      "Collecting lyricsgenius\n",
      "  Downloading lyricsgenius-3.0.1-py3-none-any.whl (59 kB)\n",
      "\u001b[K     |████████████████████████████████| 59 kB 2.2 MB/s eta 0:00:01\n",
      "\u001b[?25hRequirement already satisfied: requests>=2.20.0 in /Users/matthewscheffel/opt/anaconda3/lib/python3.9/site-packages (from lyricsgenius) (2.27.1)\n",
      "Requirement already satisfied: beautifulsoup4>=4.6.0 in /Users/matthewscheffel/opt/anaconda3/lib/python3.9/site-packages (from lyricsgenius) (4.11.1)\n",
      "Requirement already satisfied: soupsieve>1.2 in /Users/matthewscheffel/opt/anaconda3/lib/python3.9/site-packages (from beautifulsoup4>=4.6.0->lyricsgenius) (2.3.1)\n",
      "Requirement already satisfied: idna<4,>=2.5 in /Users/matthewscheffel/opt/anaconda3/lib/python3.9/site-packages (from requests>=2.20.0->lyricsgenius) (3.3)\n",
      "Requirement already satisfied: urllib3<1.27,>=1.21.1 in /Users/matthewscheffel/opt/anaconda3/lib/python3.9/site-packages (from requests>=2.20.0->lyricsgenius) (1.26.9)\n",
      "Requirement already satisfied: charset-normalizer~=2.0.0 in /Users/matthewscheffel/opt/anaconda3/lib/python3.9/site-packages (from requests>=2.20.0->lyricsgenius) (2.0.4)\n",
      "Requirement already satisfied: certifi>=2017.4.17 in /Users/matthewscheffel/opt/anaconda3/lib/python3.9/site-packages (from requests>=2.20.0->lyricsgenius) (2021.10.8)\n",
      "Installing collected packages: lyricsgenius\n",
      "Successfully installed lyricsgenius-3.0.1\n"
     ]
    }
   ],
   "source": [
    "!pip install lyricsgenius"
   ]
  },
  {
   "cell_type": "code",
   "execution_count": 79,
   "metadata": {},
   "outputs": [
    {
     "name": "stdout",
     "output_type": "stream",
     "text": [
      "Searching for \"Tangled Up in Blue\"...\n",
      "Done.\n",
      "Tangled Up in Blue Lyrics[Verse 1]\n",
      "Early one morning the sun was shining\n",
      "I was laying in bed\n",
      "Wondering if she'd changed at all\n",
      "If her hair was still red\n",
      "Her folks they said our lives together\n",
      "Sure was going to be rough\n",
      "They never did like Mama's homemade dress\n",
      "Papa's bankbook wasn't big enough\n",
      "And I was standing on the side of the road\n",
      "Rain falling on my shoes\n",
      "Heading out for the East Coast\n",
      "Lord knows I've paid some dues\n",
      "Getting through\n",
      "Tangled up in blue\n",
      "[Verse 2]\n",
      "She was married when we first met\n",
      "Soon to be divorced\n",
      "I helped her out of a jam, I guess\n",
      "But I used a little too much force\n",
      "We drove that car as far as we could\n",
      "Abandoned it out west\n",
      "Split up on a dark sad night\n",
      "Both agreeing it was best\n",
      "She turned around to look at me\n",
      "As I was walking away\n",
      "I heard her say over my shoulder\n",
      "\"We'll meet again someday\n",
      "On the avenue\"\n",
      "Tangled up in blue\n",
      "\n",
      "[Verse 3]\n",
      "I had a job in the great north woods\n",
      "Working as a cook for a spell\n",
      "But I never did like it all that much\n",
      "And one day the ax just fell\n",
      "So I drifted down to New Orleans\n",
      "Where I lucky was to be employed\n",
      "Working for a while on a fishing boat\n",
      "Right outside of Delacroix\n",
      "But all the while I was alone\n",
      "The past was close behind\n",
      "I seen a lot of women\n",
      "But she never escaped my mind\n",
      "And I just grew\n",
      "Tangled up in blue\n",
      "See Bob Dylan LiveGet tickets as low as $275You might also like[Verse 4]\n",
      "She was working in a topless place\n",
      "And I stopped in for a beer\n",
      "I just kept looking at the side of her face\n",
      "In the spotlight, so clear\n",
      "And later on, when the crowd thinned out\n",
      "I was just about to do the same\n",
      "She was standing there, in back of my chair\n",
      "Said, \"Tell me, don't I know your name?\"\n",
      "I muttered something underneath my breath\n",
      "She studied the lines on my face\n",
      "I must admit, I felt a little uneasy\n",
      "When she bent down to tie the laces\n",
      "Of my shoe\n",
      "Tangled up in blue\n",
      "\n",
      "[Verse 5]\n",
      "She lit a burner on the stove\n",
      "And offered me a pipe\n",
      "\"I thought you'd never say hello,\" she said\n",
      "\"You look like the silent type\"\n",
      "Then she opened up a book of poems\n",
      "And handed it to me\n",
      "Written by an Italian poet\n",
      "From the thirteenth century\n",
      "And every one of them words rang true\n",
      "And glowed like burning coal\n",
      "Pouring off of every page\n",
      "Like it was written in my soul\n",
      "From me to you\n",
      "Tangled up in blue\n",
      "[Verse 6]\n",
      "I lived with them on Montague Street\n",
      "In a basement down the stairs\n",
      "There was music in the cafes at night\n",
      "And revolution in the air\n",
      "Then he started into dealing with slaves\n",
      "And something inside of him died\n",
      "She had to sell everything she owned\n",
      "And froze up inside\n",
      "And when it finally, the bottom fell out\n",
      "I became withdrawn\n",
      "The only thing I knew how to do\n",
      "Was to keep on keeping on\n",
      "Like a bird that flew\n",
      "Tangled up in blue\n",
      "\n",
      "[Verse 7]\n",
      "So now I'm going back again\n",
      "I got to get to her somehow\n",
      "All the people we used to know\n",
      "They're an illusion to me now\n",
      "Some are mathematicians\n",
      "Some are carpenter's wives\n",
      "Don't know how it all got started\n",
      "I don't know what they're doing with their lives\n",
      "But me, I'm still on the road\n",
      "A-heading for another joint\n",
      "We always did feel the same\n",
      "We just saw it from a different point\n",
      "Of view\n",
      "Tangled up in blue24Embed\n"
     ]
    }
   ],
   "source": [
    "import lyricsgenius\n",
    "genius = lyricsgenius.Genius(geniusAccess)\n",
    "\n",
    "song = genius.search_song(\"Tangled Up in Blue\")\n",
    "print(song.lyrics)"
   ]
  },
  {
   "cell_type": "code",
   "execution_count": null,
   "metadata": {},
   "outputs": [],
   "source": []
  }
 ],
 "metadata": {
  "kernelspec": {
   "display_name": "Python 3 (ipykernel)",
   "language": "python",
   "name": "python3"
  },
  "language_info": {
   "codemirror_mode": {
    "name": "ipython",
    "version": 3
   },
   "file_extension": ".py",
   "mimetype": "text/x-python",
   "name": "python",
   "nbconvert_exporter": "python",
   "pygments_lexer": "ipython3",
   "version": "3.9.12"
  }
 },
 "nbformat": 4,
 "nbformat_minor": 4
}
